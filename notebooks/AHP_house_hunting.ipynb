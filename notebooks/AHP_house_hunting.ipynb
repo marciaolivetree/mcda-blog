{
 "cells": [
  {
   "cell_type": "markdown",
   "id": "93068e15-63d1-40d2-b869-3a728cdc0bd4",
   "metadata": {},
   "source": [
    "# Analytic Hierarchy Process (AHP): House Hunting Example\n",
    "\n",
    "This notebook walks you through each step of the Analytic Hierarchy Process (AHP) method for choosing a house, using the same data and values as in the [blog post](https://medium.com/@marciaolivetree/a-step-by-step-guide-to-ahp). \n",
    "\n",
    "## Table of Contents\n",
    "1. [Setup](#setup)\n",
    "2. [Step 1: Define Criteria and Options](#criteria-options)\n",
    "3. [Step 2: Pairwise Comparison Matrix for Criteria](#pairwise-criteria)\n",
    "4. [Step 3: Consistency Ratio Check](#consistency-ratio)\n",
    "5. [Step 4: Compute Criteria Weights](#criteria-weights)\n",
    "4. [Step 5: Pairwise Comparisons for Options (per Criterion)](#pairwise-options)\n",
    "6. [Step 6: Compute Local Priority Scores](#local-priority)\n",
    "7. [Step 7: Compute Global Scores and Rank Options](#global-priority)"
   ]
  },
  {
   "cell_type": "markdown",
   "id": "56d07199-447a-4507-b256-df4fd680f016",
   "metadata": {},
   "source": [
    "## Setup \n",
    "\n",
    "We'll use the [`ahpy`](https://github.com/PhilipGriffith/AHPy) Python library for calculations, and `numpy` for handling matrices.\n",
    "\n",
    "```python\n",
    "# Install ahpy and pandas, if you haven't done it already\n",
    "# !pip install ahpy\n",
    "# !pip install pandas"
   ]
  },
  {
   "cell_type": "code",
   "execution_count": 1,
   "id": "f192179e-d39a-49d3-b472-d1bbf2dd6af9",
   "metadata": {},
   "outputs": [],
   "source": [
    "import ahpy\n",
    "import numpy as np\n",
    "import pandas as pd"
   ]
  },
  {
   "cell_type": "markdown",
   "id": "e37c1b03-69d0-41b4-9260-035371c8051f",
   "metadata": {},
   "source": [
    "## <a name=\"criteria-options\"></a>Step 1: Define Criteria and Options\n",
    "\n",
    "**Decision Criteria:**\n",
    "- Neighbourhood Safety\n",
    "- Location (distance from work, in km)\n",
    "- House Condition\n",
    "- Price (€)\n",
    "- House Size ($m^2$)\n",
    "\n",
    "**Options/Alternatives (aka the decision set):**\n",
    "- House A: Modern Apartment Downtown\n",
    "- House B: Suburban Family House\n",
    "- House C: Rural Cottage"
   ]
  },
  {
   "cell_type": "code",
   "execution_count": 2,
   "id": "fffdd8f5-0c03-4798-8b23-bdc5724cb1d0",
   "metadata": {},
   "outputs": [],
   "source": [
    "# Criteria\n",
    "criteria = ['Safety', 'Location', 'Condition', 'Price', 'Size']\n",
    "\n",
    "# Options\n",
    "options = ['House A', 'House B', 'House C']"
   ]
  },
  {
   "cell_type": "markdown",
   "id": "d13aeba7-7cd8-49d8-b632-01b38288a04d",
   "metadata": {},
   "source": [
    "## <a name=\"pairwise-criteria\"></a>Step 2: Pairwise Comparison Matrix for Criteria\n",
    "\n",
    "Here is the pairwise comparison matrix for our five criteria:\n",
    "\n",
    "\n",
    "| Criteria      | Safety | Location | Condition | Price | Size |\n",
    "| ------------- | :----: | :------: | :-------: | :---: | :--: |\n",
    "| **Safety**    |    1   |     3    |     5     |   7   |   9  |\n",
    "| **Location**  |   1/3  |     1    |     2     |   5   |   7  |\n",
    "| **Condition** |   1/5  |    1/2   |     1     |   2   |   4  |\n",
    "| **Price**     |   1/7  |    1/5   |    1/2    |   1   |   3  |\n",
    "| **Size**      |   1/9  |    1/7   |    1/4    |  1/3  |   1  |"
   ]
  },
  {
   "cell_type": "markdown",
   "id": "4108cf03-7b57-4eed-af7b-3740aed7f274",
   "metadata": {},
   "source": [
    "Let's define the pairwise comparisons dictionary for ahpy:"
   ]
  },
  {
   "cell_type": "code",
   "execution_count": 3,
   "id": "ff853882-8bc9-4b9a-81b1-0a29e2ef6c03",
   "metadata": {},
   "outputs": [],
   "source": [
    "criteria_comparisons = {\n",
    "    ('Safety', 'Location'): 3,\n",
    "    ('Safety', 'Condition'): 5,\n",
    "    ('Safety', 'Price'): 7,\n",
    "    ('Safety', 'Size'): 9,\n",
    "    ('Location', 'Condition'): 2,\n",
    "    ('Location', 'Price'): 5,\n",
    "    ('Location', 'Size'): 7,\n",
    "    ('Condition', 'Price'): 2,\n",
    "    ('Condition', 'Size'): 4,\n",
    "    ('Price', 'Size'): 3,\n",
    "}\n",
    "\n",
    "criteria_matrix = ahpy.Compare('Criteria', criteria_comparisons, precision=3)"
   ]
  },
  {
   "cell_type": "markdown",
   "id": "9aded29c-a807-4db9-91a3-5335b01f9a1d",
   "metadata": {},
   "source": [
    "## <a name=\"consistency-ratio\"></a>Step 3: Consistency Ratio Check\n",
    "\n",
    "Before computing the criteria weights, let's first check the consistency of the pairwise comparisons. This ensures the judgments are logical and reliable.\n",
    "\n",
    "We will use AHP's built-in consistency check based on the Consistency Ratio (CR). This metric compares the decision maker's judgments against a large set of randomly generated ones to assess how logically coherent the inputs are.\n",
    "\n",
    "**Consistency Ratio (CR):**\n",
    "$$\n",
    "CR = \\frac{CI}{RI}\n",
    "$$\n",
    "\n",
    "**Consistency Index (CI):**\n",
    "$$\n",
    "CI = \\frac{\\lambda_{max} - n}{n - 1}\n",
    "$$\n",
    "\n",
    "Where:\n",
    "- $\\lambda_{max}$: the maximum eigenvalue of the pairwise comparison matrix  \n",
    "- $n$: number of criteria  \n",
    "- $RI$: Random Consistency Index (depends on the size of the matrix; see Saaty's RI table)\n",
    "\n",
    "\n",
    "### How to interpret the Consistency Ratio\n",
    "- **CR ≤ 0.10:** Judgments are acceptably consistent. Proceed.\n",
    "- **CR > 0.10:** Review comparisons for contradictions."
   ]
  },
  {
   "cell_type": "code",
   "execution_count": 4,
   "id": "6397e875-2686-4859-94df-3d05cb9b8129",
   "metadata": {},
   "outputs": [
    {
     "name": "stdout",
     "output_type": "stream",
     "text": [
      "\n",
      "Consistency Ratio: 0.035\n"
     ]
    }
   ],
   "source": [
    "print('\\nConsistency Ratio:', criteria_matrix.consistency_ratio)"
   ]
  },
  {
   "cell_type": "markdown",
   "id": "c7ea8ff8-c725-4d02-a0bf-673febe48efc",
   "metadata": {},
   "source": [
    "For our house hunting example, the consistency ratio is 0.035, which is well below the recommended 0.10 threshold. This indicates that the decision maker's judgments are acceptably consistent."
   ]
  },
  {
   "cell_type": "markdown",
   "id": "230de43f-160a-4658-9b7c-29141ee4c51c",
   "metadata": {},
   "source": [
    "## <a name=\"criteria-weights\"></a>Step 4: Compute Criteria Weights\n",
    "\n",
    "Now, let's extract the weights for each criterion (rounded to 3 decimals) using AHP's eigenvector method:"
   ]
  },
  {
   "cell_type": "code",
   "execution_count": 5,
   "id": "dfb6659a-43c0-4a43-a1cf-6e8aa9d3da88",
   "metadata": {},
   "outputs": [
    {
     "data": {
      "text/html": [
       "<div>\n",
       "<style scoped>\n",
       "    .dataframe tbody tr th:only-of-type {\n",
       "        vertical-align: middle;\n",
       "    }\n",
       "\n",
       "    .dataframe tbody tr th {\n",
       "        vertical-align: top;\n",
       "    }\n",
       "\n",
       "    .dataframe thead th {\n",
       "        text-align: right;\n",
       "    }\n",
       "</style>\n",
       "<table border=\"1\" class=\"dataframe\">\n",
       "  <thead>\n",
       "    <tr style=\"text-align: right;\">\n",
       "      <th></th>\n",
       "      <th>Criteria Weights</th>\n",
       "    </tr>\n",
       "  </thead>\n",
       "  <tbody>\n",
       "    <tr>\n",
       "      <th>Safety</th>\n",
       "      <td>0.524</td>\n",
       "    </tr>\n",
       "    <tr>\n",
       "      <th>Location</th>\n",
       "      <td>0.247</td>\n",
       "    </tr>\n",
       "    <tr>\n",
       "      <th>Condition</th>\n",
       "      <td>0.123</td>\n",
       "    </tr>\n",
       "    <tr>\n",
       "      <th>Price</th>\n",
       "      <td>0.071</td>\n",
       "    </tr>\n",
       "    <tr>\n",
       "      <th>Size</th>\n",
       "      <td>0.036</td>\n",
       "    </tr>\n",
       "  </tbody>\n",
       "</table>\n",
       "</div>"
      ],
      "text/plain": [
       "           Criteria Weights\n",
       "Safety                0.524\n",
       "Location              0.247\n",
       "Condition             0.123\n",
       "Price                 0.071\n",
       "Size                  0.036"
      ]
     },
     "metadata": {},
     "output_type": "display_data"
    }
   ],
   "source": [
    "criteria_weights = criteria_matrix.target_weights\n",
    "\n",
    "# Convert to dataframe\n",
    "weights_df = pd.DataFrame.from_dict(criteria_weights, orient='index', columns=[\"Criteria Weights\"])\n",
    "\n",
    "# Display as a table\n",
    "display(weights_df)"
   ]
  },
  {
   "cell_type": "markdown",
   "id": "4bb2d9b3-eefa-4fe8-8cf2-7714aac43ba9",
   "metadata": {},
   "source": [
    "The most important criteria for the decision maker is Neighbourhood Safety, followed by House Location (proximity to work)."
   ]
  },
  {
   "cell_type": "markdown",
   "id": "49d38fd5-b56a-49fc-afb7-1e364fd39260",
   "metadata": {},
   "source": [
    "## <a name=\"pairwise-options\"></a>Step 5: Pairwise Comparisons for Options (per Criterion)\n",
    "\n",
    "At this stage, we evaluate how well each house performs under each criterion.\n",
    "- For **qualitative criteria**, like _Safety_ and _Condition_, we use **pairwise comparison matrices**. This approach allows us to capture nuanced, subjective judgments.\n",
    "- For **objective criteria** such as _Price_, _Location_, and _Size_, we use the actual data (direct ratings where lower price, closer location, or larger size are directly reflected in the scoring).\n",
    "\n",
    "\n",
    "#### Pairwise Comparisons – Condition:\n",
    "\n",
    "|            | House A | House B | House C |\n",
    "|------------|---------|---------|---------|\n",
    "| **House A**|   1     |   5     |   9     |\n",
    "| **House B**|  1/5    |   1     |   4     |\n",
    "| **House C**|  1/9    |  1/4    |   1     |\n",
    "\n",
    "#### Pairwise Comparisons – Safety:\n",
    "\n",
    "|            | House A | House B | House C |\n",
    "|------------|---------|---------|---------|\n",
    "| **House A**|   1     |   5     |   1     |\n",
    "| **House B**|  1/5    |   1     |  1/5    |\n",
    "| **House C**|   1     |   5     |   1     |"
   ]
  },
  {
   "cell_type": "code",
   "execution_count": 6,
   "id": "9f803c41-6be6-402a-be8a-694b14fb3ae5",
   "metadata": {},
   "outputs": [
    {
     "name": "stdout",
     "output_type": "stream",
     "text": [
      "Condition local priorities   : {'House A': 0.743, 'House B': 0.194, 'House C': 0.063}\n"
     ]
    }
   ],
   "source": [
    "condition_comparisons = {\n",
    "    ('House A', 'House B'): 5,\n",
    "    ('House A', 'House C'): 9,\n",
    "    ('House B', 'House C'): 4,\n",
    "}\n",
    "condition_matrix = ahpy.Compare('Condition', condition_comparisons, precision=3)\n",
    "sorted_condition_priorities = dict(sorted(condition_matrix.local_weights.items()))\n",
    "print('Condition local priorities   :', sorted_condition_priorities)"
   ]
  },
  {
   "cell_type": "code",
   "execution_count": 7,
   "id": "12514979-2c08-4502-83fe-19d47b46b073",
   "metadata": {},
   "outputs": [
    {
     "name": "stdout",
     "output_type": "stream",
     "text": [
      "Safety local priorities   : {'House A': 0.455, 'House B': 0.091, 'House C': 0.455}\n"
     ]
    }
   ],
   "source": [
    "safety_comparison = {\n",
    "    ('House A', 'House B'): 5,\n",
    "    ('House C', 'House B'): 5,  # House C vs. B\n",
    "    ('House A', 'House C'): 1   # A equals C\n",
    "}\n",
    "safety_matrix = ahpy.Compare('Safety', safety_comparison, precision=3)\n",
    "sorted_safety_priorities = dict(sorted(safety_matrix.local_weights.items()))\n",
    "print('Safety local priorities   :', sorted_safety_priorities)"
   ]
  },
  {
   "cell_type": "markdown",
   "id": "04037d51-3fd8-4048-98e9-325944351f23",
   "metadata": {},
   "source": [
    "## <a name=\"local-priority\"></a>Step 6: Compute Local Priority Scores\n",
    "\n",
    "Now, let's assemble all local priority scores for each house under each criterion. For objective criteria (Price, Location, Size) we'll use normalized scores (lowest price/best location = 1).\n",
    "\n",
    "\n",
    "| Criteria/Options                | House A (Modern Apartment Downtown) | House B (Suburban Family House) | House C (Rural Cottage)    |\n",
    "|---------------------------------|-------------------------------------|----------------------------------|----------------------------|\n",
    "| **Price (€)**                   | 420k                                | 380k                             | 320k                       |\n",
    "| **Location (distance to work, km)** | 5km                              | 21km                             | 47km                       |\n",
    "| **House Size (m²)**             | 75m²                                | 190m²                            | 285m²                      |\n",
    "| **Condition**                   | New                                 | Good Shape                       | Needs renovation           |\n",
    "| **Neighbourhood Safety**        | Safe                                | Moderate                         | Safe                       |"
   ]
  },
  {
   "cell_type": "code",
   "execution_count": 8,
   "id": "fd5dcdf1-af5d-4130-b59e-9fc64e5bb0b1",
   "metadata": {},
   "outputs": [
    {
     "data": {
      "text/html": [
       "<div>\n",
       "<style scoped>\n",
       "    .dataframe tbody tr th:only-of-type {\n",
       "        vertical-align: middle;\n",
       "    }\n",
       "\n",
       "    .dataframe tbody tr th {\n",
       "        vertical-align: top;\n",
       "    }\n",
       "\n",
       "    .dataframe thead th {\n",
       "        text-align: right;\n",
       "    }\n",
       "</style>\n",
       "<table border=\"1\" class=\"dataframe\">\n",
       "  <thead>\n",
       "    <tr style=\"text-align: right;\">\n",
       "      <th></th>\n",
       "      <th>Price</th>\n",
       "      <th>Location</th>\n",
       "      <th>Size</th>\n",
       "    </tr>\n",
       "  </thead>\n",
       "  <tbody>\n",
       "    <tr>\n",
       "      <th>House A</th>\n",
       "      <td>0.293</td>\n",
       "      <td>0.744</td>\n",
       "      <td>0.136</td>\n",
       "    </tr>\n",
       "    <tr>\n",
       "      <th>House B</th>\n",
       "      <td>0.323</td>\n",
       "      <td>0.177</td>\n",
       "      <td>0.345</td>\n",
       "    </tr>\n",
       "    <tr>\n",
       "      <th>House C</th>\n",
       "      <td>0.384</td>\n",
       "      <td>0.079</td>\n",
       "      <td>0.518</td>\n",
       "    </tr>\n",
       "  </tbody>\n",
       "</table>\n",
       "</div>"
      ],
      "text/plain": [
       "         Price  Location   Size\n",
       "House A  0.293     0.744  0.136\n",
       "House B  0.323     0.177  0.345\n",
       "House C  0.384     0.079  0.518"
      ]
     },
     "metadata": {},
     "output_type": "display_data"
    }
   ],
   "source": [
    "# Input values:\n",
    "price = np.array([420e3, 380e3, 320e3])\n",
    "location = np.array([5, 21, 47])\n",
    "size = np.array([75, 190, 285])\n",
    "\n",
    "# Normalize: invert for 'lower is better'\n",
    "price_norm = 1 / price\n",
    "location_norm = 1 / location\n",
    "size_norm = size  # 'higher is better'\n",
    "\n",
    "# Scale each series so that sum = 1\n",
    "def normalize(vec):\n",
    "    return vec / vec.sum()\n",
    "\n",
    "price_lp = normalize(price_norm)\n",
    "location_lp = normalize(location_norm)\n",
    "size_lp = normalize(size_norm)\n",
    "\n",
    "local_table = pd.DataFrame({\n",
    "    'Price': price_lp,\n",
    "    'Location': location_lp,\n",
    "    'Size': size_lp\n",
    "}, index=['House A', 'House B', 'House C'])\n",
    "\n",
    "display(local_table.round(3))"
   ]
  },
  {
   "cell_type": "markdown",
   "id": "e75e91cc-0721-4864-a876-2bcc7341aa45",
   "metadata": {},
   "source": [
    "Now merge with the Condition and Safety local priorities like this:"
   ]
  },
  {
   "cell_type": "code",
   "execution_count": 9,
   "id": "af7f1005-235a-4be9-b47e-68b2fbcdeee5",
   "metadata": {},
   "outputs": [
    {
     "data": {
      "text/html": [
       "<div>\n",
       "<style scoped>\n",
       "    .dataframe tbody tr th:only-of-type {\n",
       "        vertical-align: middle;\n",
       "    }\n",
       "\n",
       "    .dataframe tbody tr th {\n",
       "        vertical-align: top;\n",
       "    }\n",
       "\n",
       "    .dataframe thead th {\n",
       "        text-align: right;\n",
       "    }\n",
       "</style>\n",
       "<table border=\"1\" class=\"dataframe\">\n",
       "  <thead>\n",
       "    <tr style=\"text-align: right;\">\n",
       "      <th></th>\n",
       "      <th>Price</th>\n",
       "      <th>Location</th>\n",
       "      <th>Size</th>\n",
       "      <th>Condition</th>\n",
       "      <th>Safety</th>\n",
       "    </tr>\n",
       "  </thead>\n",
       "  <tbody>\n",
       "    <tr>\n",
       "      <th>House A</th>\n",
       "      <td>0.293</td>\n",
       "      <td>0.744</td>\n",
       "      <td>0.136</td>\n",
       "      <td>0.743</td>\n",
       "      <td>0.455</td>\n",
       "    </tr>\n",
       "    <tr>\n",
       "      <th>House B</th>\n",
       "      <td>0.323</td>\n",
       "      <td>0.177</td>\n",
       "      <td>0.345</td>\n",
       "      <td>0.194</td>\n",
       "      <td>0.091</td>\n",
       "    </tr>\n",
       "    <tr>\n",
       "      <th>House C</th>\n",
       "      <td>0.384</td>\n",
       "      <td>0.079</td>\n",
       "      <td>0.518</td>\n",
       "      <td>0.063</td>\n",
       "      <td>0.455</td>\n",
       "    </tr>\n",
       "  </tbody>\n",
       "</table>\n",
       "</div>"
      ],
      "text/plain": [
       "         Price  Location   Size  Condition  Safety\n",
       "House A  0.293     0.744  0.136      0.743   0.455\n",
       "House B  0.323     0.177  0.345      0.194   0.091\n",
       "House C  0.384     0.079  0.518      0.063   0.455"
      ]
     },
     "execution_count": 9,
     "metadata": {},
     "output_type": "execute_result"
    }
   ],
   "source": [
    "local_priorities = local_table.copy()\n",
    "local_priorities['Condition'] = sorted_condition_priorities.values()\n",
    "local_priorities['Safety'] = sorted_safety_priorities.values()\n",
    "local_priorities.round(3)"
   ]
  },
  {
   "cell_type": "markdown",
   "id": "7886f38f-066f-4a5b-b5e4-74279a0dc347",
   "metadata": {},
   "source": [
    "## <a name=\"global-priority\"></a>Step 7: Compute Global Scores and Rank Options\n",
    "\n",
    "In this last step, we combine the criteria weights with the local priority scores for each house to get the global priority scores and decide on the best compromise solution.\n",
    "\n",
    "\n",
    "The formula we'll be using is:\n",
    "\n",
    "$$\n",
    "\\text{Global Priority}_j = \\sum_{i=1}^{n} (w_i \\times p_{ij})\n",
    "$$\n",
    "\n",
    "Where:\n",
    "- $w_i$: weight of criterion \\( i \\)\n",
    "- $p_{ij}$: local priority score of option \\( j \\) under criterion \\( i \\)\n",
    "- $n$: umber of criteria\n",
    "\n",
    "This calculation gives each house a single score that reflects both the importance of each criterion and how well the house performs on each one. The option with the highest global priority is your best overall choice."
   ]
  },
  {
   "cell_type": "code",
   "execution_count": 10,
   "id": "b03d99c8-35b3-44f0-9a2e-78f800a1243f",
   "metadata": {},
   "outputs": [
    {
     "name": "stdout",
     "output_type": "stream",
     "text": [
      "Global Priority Scores:\n",
      "House A: 0.54\n",
      "House C: 0.31\n",
      "House B: 0.15\n"
     ]
    }
   ],
   "source": [
    "global_scores = {house: 0 for house in options}\n",
    "\n",
    "for criterion, weights in criteria_weights.items():\n",
    "    for house in options:\n",
    "        global_scores[house] += weights * local_priorities[criterion][house]\n",
    "\n",
    "# Normalize global scores to sum to 1\n",
    "total = sum(global_scores.values())\n",
    "for house in global_scores:\n",
    "    global_scores[house] /= total\n",
    "\n",
    "print('Global Priority Scores:')\n",
    "for house, score in sorted(global_scores.items(), key=lambda x: x[1], reverse=True):\n",
    "    print(f'{house}: {score:.2f}')"
   ]
  },
  {
   "cell_type": "markdown",
   "id": "1611820b-f87c-4300-8d33-e26af73c1f27",
   "metadata": {},
   "source": [
    "## Options Ranked!\n",
    "\n",
    "| House   | Global Priority Score |\n",
    "|---------|----------------------|\n",
    "| House A | 0.54                 |\n",
    "| House C | 0.31                 |\n",
    "| House B | 0.15                 |\n",
    "\n",
    "**Conclusion:**  \n",
    "And the winner is… House A! The modern apartment downtown takes the crown as the best compromise in this decision."
   ]
  }
 ],
 "metadata": {
  "kernelspec": {
   "display_name": "mcda-ahp",
   "language": "python",
   "name": "myenv"
  },
  "language_info": {
   "codemirror_mode": {
    "name": "ipython",
    "version": 3
   },
   "file_extension": ".py",
   "mimetype": "text/x-python",
   "name": "python",
   "nbconvert_exporter": "python",
   "pygments_lexer": "ipython3",
   "version": "3.9.6"
  }
 },
 "nbformat": 4,
 "nbformat_minor": 5
}
